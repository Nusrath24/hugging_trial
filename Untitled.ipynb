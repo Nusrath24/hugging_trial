{
 "cells": [
  {
   "cell_type": "code",
   "execution_count": 30,
   "id": "7c53f989-180a-4b6e-a404-fdbeb4689374",
   "metadata": {},
   "outputs": [],
   "source": [
    "def findMedianSortedArrays(nums1, nums2):\n",
    "    num = nums1 + nums2\n",
    "    print(num)\n",
    "    nums = sorted(num)\n",
    "    print(nums)\n",
    "    if len(num) %2 != 0:\n",
    "        median =  num[len(num)//2]\n",
    "    else:\n",
    "        median = (num[len(num)//2] +num[(len(num)//2) - 1]) / 2\n",
    "        \n",
    "    return median\n"
   ]
  },
  {
   "cell_type": "code",
   "execution_count": 32,
   "id": "2f2e4049-d3ed-4555-9c55-6fc54f4db46e",
   "metadata": {},
   "outputs": [
    {
     "name": "stdout",
     "output_type": "stream",
     "text": [
      "[1, 3, 2, 4]\n",
      "[1, 2, 3, 4]\n"
     ]
    },
    {
     "data": {
      "text/plain": [
       "2.5"
      ]
     },
     "execution_count": 32,
     "metadata": {},
     "output_type": "execute_result"
    }
   ],
   "source": [
    "nums1 = [1,3]\n",
    "nums2 = [2,4]\n",
    "findMedianSortedArrays(nums1,nums2)"
   ]
  },
  {
   "cell_type": "code",
   "execution_count": null,
   "id": "fd838ecd-5d6e-4179-a0f8-720d106c9dc1",
   "metadata": {},
   "outputs": [],
   "source": []
  }
 ],
 "metadata": {
  "kernelspec": {
   "display_name": "Python [conda env:base] *",
   "language": "python",
   "name": "conda-base-py"
  },
  "language_info": {
   "codemirror_mode": {
    "name": "ipython",
    "version": 3
   },
   "file_extension": ".py",
   "mimetype": "text/x-python",
   "name": "python",
   "nbconvert_exporter": "python",
   "pygments_lexer": "ipython3",
   "version": "3.11.5"
  }
 },
 "nbformat": 4,
 "nbformat_minor": 5
}
